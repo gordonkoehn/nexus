{
 "cells": [
  {
   "cell_type": "markdown",
   "id": "c46e2606",
   "metadata": {},
   "source": [
    "# Connectivity Inference V2"
   ]
  },
  {
   "cell_type": "markdown",
   "id": "40c0fcbb",
   "metadata": {},
   "source": [
    "This notebook applied the V2 of the connectivity inference on the adEx implementation of Taehoon of \"Susin, Eduarda, and Alain Destexhe. 2021.\""
   ]
  },
  {
   "cell_type": "code",
   "execution_count": 4,
   "id": "e4609390",
   "metadata": {},
   "outputs": [],
   "source": [
    "############################\n",
    "######## SETUP  ###########\n",
    "\n",
    "#####  General Imports ######\n",
    "import numpy as np\n",
    "from brian2 import *\n",
    "from matplotlib import pyplot\n",
    "import sys\n",
    "import networkx\n",
    "\n",
    "##### setup interactive ####\n",
    "%matplotlib notebook "
   ]
  },
  {
   "cell_type": "code",
   "execution_count": 6,
   "id": "16666b7e",
   "metadata": {},
   "outputs": [],
   "source": [
    "#### Simulation Scripts #####\n",
    "sys.path.append('../simulations/')\n",
    "from wp2_adex_model_script import * \n",
    "\n",
    "###### Utility Scripts #####\n",
    "sys.path.append('../tools')\n",
    "#import wp2_util as  wp2_util"
   ]
  },
  {
   "cell_type": "code",
   "execution_count": 8,
   "id": "1d9baca1",
   "metadata": {},
   "outputs": [
    {
     "name": "stderr",
     "output_type": "stream",
     "text": [
      "INFO       No numerical integration method specified for group 'neurongroup_1', using method 'euler' (took 0.03s, trying other methods took 0.22s). [brian2.stateupdaters.base.method_choice]\n",
      "INFO       No numerical integration method specified for group 'neurongroup', using method 'euler' (took 0.01s, trying other methods took 0.13s). [brian2.stateupdaters.base.method_choice]\n"
     ]
    },
    {
     "name": "stdout",
     "output_type": "stream",
     "text": [
      "The time difference is : 115.25729609599989\n",
      "[]\n",
      "[ 1.5 13.7 17.7 22.4 28.6 34.6 38.6 39.8 42.6 47.9 53.5 54.4 55.8 70.7\n",
      " 78.8 83.  83.1 83.6 87.6 87.8 89.2 89.8 93.2]\n",
      "simulation successfullly ran for 10_4e-09_8.05e-11_30.0_4e-09_4e-09\n"
     ]
    }
   ],
   "source": [
    "###########################\n",
    "####### RUN SIMULATION ####\n",
    "\n",
    "### choose parameters ###\n",
    "params = dict()\n",
    "params['sim_time'] = float(30) # simulation time in seconds \n",
    "params['a'] = float( 4*10**(-9))    # subthreshold adaption constant [Siemens]\n",
    "params['b'] = float(0.0805 * 10**(-9)) # spike-triggert adaption constant [A ]\n",
    "params['N'] = int(10) #  no of neurons\n",
    "params['ge']=float(4*10**(-9)) # excitatory synaptic conductance [S] - [VALUE ???]\n",
    "params['gi']=float(4*10**(-9)) # inhibitory synaptic conductance [S] - [VALUE ???]\n",
    "\n",
    "root_dir = 'simData'\n",
    "\n",
    "curr_dir = root_dir + '/' + str(params['N'])\n",
    "\n",
    "#if(not(os.path.exists(curr_dir))):\n",
    "#    os.makedirs(curr_dir)\n",
    "\n",
    "params['save_fol'] = curr_dir\n",
    "\n",
    "\n",
    "# run simulation\n",
    "#trace, spikes, S = simpleNetV2(n, p, c, t, ws, tauw, a, b, Vr) # Regular spiking \n",
    "result = run_sim(params)"
   ]
  }
 ],
 "metadata": {
  "kernelspec": {
   "display_name": "Python 3 (ipykernel)",
   "language": "python",
   "name": "python3"
  },
  "language_info": {
   "codemirror_mode": {
    "name": "ipython",
    "version": 3
   },
   "file_extension": ".py",
   "mimetype": "text/x-python",
   "name": "python",
   "nbconvert_exporter": "python",
   "pygments_lexer": "ipython3",
   "version": "3.9.7"
  }
 },
 "nbformat": 4,
 "nbformat_minor": 5
}
