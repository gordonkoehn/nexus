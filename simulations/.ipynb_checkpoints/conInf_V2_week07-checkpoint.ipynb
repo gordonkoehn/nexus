{
 "cells": [
  {
   "cell_type": "markdown",
   "id": "7ba7efdb",
   "metadata": {},
   "source": [
    "# Connectivity Inference V2"
   ]
  },
  {
   "cell_type": "markdown",
   "id": "f56a95e3",
   "metadata": {},
   "source": [
    "Date: 08.04.22 -\n",
    "\n",
    "This notebook contains the second, now structured, version of the conncetivity inference pipeline brian2 --> sPYcon."
   ]
  },
  {
   "cell_type": "code",
   "execution_count": null,
   "id": "1024affb",
   "metadata": {},
   "outputs": [],
   "source": []
  }
 ],
 "metadata": {
  "kernelspec": {
   "display_name": "Python 3 (ipykernel)",
   "language": "python",
   "name": "python3"
  },
  "language_info": {
   "codemirror_mode": {
    "name": "ipython",
    "version": 3
   },
   "file_extension": ".py",
   "mimetype": "text/x-python",
   "name": "python",
   "nbconvert_exporter": "python",
   "pygments_lexer": "ipython3",
   "version": "3.9.7"
  }
 },
 "nbformat": 4,
 "nbformat_minor": 5
}
